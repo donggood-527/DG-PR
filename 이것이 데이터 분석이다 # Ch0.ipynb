{
  "nbformat": 4,
  "nbformat_minor": 0,
  "metadata": {
    "colab": {
      "name": "Untitled2.ipynb",
      "provenance": [],
      "authorship_tag": "ABX9TyNmKsZ7t26uCo79/cJPdzUM",
      "include_colab_link": true
    },
    "kernelspec": {
      "name": "python3",
      "display_name": "Python 3"
    }
  },
  "cells": [
    {
      "cell_type": "markdown",
      "metadata": {
        "id": "view-in-github",
        "colab_type": "text"
      },
      "source": [
        "<a href=\"https://colab.research.google.com/github/donggood-527/DG-PR/blob/main/%EC%9D%B4%EA%B2%83%EC%9D%B4%20%EB%8D%B0%EC%9D%B4%ED%84%B0%20%EB%B6%84%EC%84%9D%EC%9D%B4%EB%8B%A4%20%23%20Ch0.ipynb\" target=\"_parent\"><img src=\"https://colab.research.google.com/assets/colab-badge.svg\" alt=\"Open In Colab\"/></a>"
      ]
    },
    {
      "cell_type": "code",
      "metadata": {
        "colab": {
          "base_uri": "https://localhost:8080/",
          "height": 133
        },
        "id": "zaaHshvYhmxu",
        "outputId": "bad17796-9b71-4d0b-c57e-929f2ac4f5c7"
      },
      "source": [
        "import pandas as pd\r\n",
        "\r\n",
        "names = [ 'donggu', 'suji', 'hyeji']\r\n",
        "births = [123, 456, 789]\r\n",
        "\r\n",
        "dataset = list(zip(names,births))\r\n",
        "# zip 함수 = 내장함수로 같은 길이의 리스트를 같은 인덱스끼리 잘라서 리스트로 반환\r\n",
        "df = pd.DataFrame(data = dataset, columns=['Names', 'Births'])\r\n",
        "\r\n",
        "\r\n",
        "df.head() # head()=  상단 부분 출력"
      ],
      "execution_count": null,
      "outputs": [
        {
          "output_type": "execute_result",
          "data": {
            "text/html": [
              "<div>\n",
              "<style scoped>\n",
              "    .dataframe tbody tr th:only-of-type {\n",
              "        vertical-align: middle;\n",
              "    }\n",
              "\n",
              "    .dataframe tbody tr th {\n",
              "        vertical-align: top;\n",
              "    }\n",
              "\n",
              "    .dataframe thead th {\n",
              "        text-align: right;\n",
              "    }\n",
              "</style>\n",
              "<table border=\"1\" class=\"dataframe\">\n",
              "  <thead>\n",
              "    <tr style=\"text-align: right;\">\n",
              "      <th></th>\n",
              "      <th>Names</th>\n",
              "      <th>Births</th>\n",
              "    </tr>\n",
              "  </thead>\n",
              "  <tbody>\n",
              "    <tr>\n",
              "      <th>0</th>\n",
              "      <td>donggu</td>\n",
              "      <td>123</td>\n",
              "    </tr>\n",
              "    <tr>\n",
              "      <th>1</th>\n",
              "      <td>suji</td>\n",
              "      <td>456</td>\n",
              "    </tr>\n",
              "    <tr>\n",
              "      <th>2</th>\n",
              "      <td>hyeji</td>\n",
              "      <td>789</td>\n",
              "    </tr>\n",
              "  </tbody>\n",
              "</table>\n",
              "</div>"
            ],
            "text/plain": [
              "    Names  Births\n",
              "0  donggu     123\n",
              "1    suji     456\n",
              "2   hyeji     789"
            ]
          },
          "metadata": {
            "tags": []
          },
          "execution_count": 1
        }
      ]
    },
    {
      "cell_type": "code",
      "metadata": {
        "colab": {
          "base_uri": "https://localhost:8080/"
        },
        "id": "DhHWT--dh2AJ",
        "outputId": "7f5d61ed-2bfc-49d7-b51c-3f0fe56acd2a"
      },
      "source": [
        "print(df.dtypes) # 데이터 프레임의 열 타입 정보\r\n",
        "print('--------------------------------------')\r\n",
        "print(df.index) # 데이터 프레임의 인덱스 정보\r\n",
        "print('--------------------------------------')\r\n",
        "print(df.columns) # 데이터 프레임의 열의 형태 정보"
      ],
      "execution_count": null,
      "outputs": [
        {
          "output_type": "stream",
          "text": [
            "Names     object\n",
            "Births     int64\n",
            "dtype: object\n",
            "--------------------------------------\n",
            "RangeIndex(start=0, stop=3, step=1)\n",
            "--------------------------------------\n",
            "Index(['Names', 'Births'], dtype='object')\n"
          ],
          "name": "stdout"
        }
      ]
    },
    {
      "cell_type": "code",
      "metadata": {
        "colab": {
          "base_uri": "https://localhost:8080/"
        },
        "id": "nh0I_pbTh4C3",
        "outputId": "40eab021-3a9f-407f-f3dc-764f43e4e83b"
      },
      "source": [
        "print(df['Names']) # 데이터 프레임의 열 선택\r\n",
        "print('--------------------------------------')\r\n",
        "print(df[0:3]) # 데이터 프레임의 행 선택 (행은 0부터 시작)"
      ],
      "execution_count": null,
      "outputs": [
        {
          "output_type": "stream",
          "text": [
            "0    donggu\n",
            "1      suji\n",
            "2     hyeji\n",
            "Name: Names, dtype: object\n",
            "--------------------------------------\n",
            "    Names  Births\n",
            "0  donggu     123\n",
            "1    suji     456\n",
            "2   hyeji     789\n"
          ],
          "name": "stdout"
        }
      ]
    },
    {
      "cell_type": "code",
      "metadata": {
        "colab": {
          "base_uri": "https://localhost:8080/"
        },
        "id": "fK2dZ7N2h5Mu",
        "outputId": "e4b300cd-8df7-47af-9b1f-8ec61ea4e878"
      },
      "source": [
        "print(df[df[\"Births\"]>100]) # 필터링 기능 births 가 100보다 큰거만 출력\r\n",
        "print('--------------------------------------')\r\n",
        "print(df.mean()) # mean(평균값)"
      ],
      "execution_count": null,
      "outputs": [
        {
          "output_type": "stream",
          "text": [
            "    Names  Births\n",
            "0  donggu     123\n",
            "1    suji     456\n",
            "2   hyeji     789\n",
            "--------------------------------------\n",
            "Births    456.0\n",
            "dtype: float64\n"
          ],
          "name": "stdout"
        }
      ]
    },
    {
      "cell_type": "code",
      "metadata": {
        "id": "qgdnOZBBh6Eq"
      },
      "source": [
        "import numpy as np"
      ],
      "execution_count": null,
      "outputs": []
    },
    {
      "cell_type": "code",
      "metadata": {
        "colab": {
          "base_uri": "https://localhost:8080/"
        },
        "id": "7jqUX361h7A0",
        "outputId": "ec41f025-fd9b-46d2-a2f3-f7a41d44a1c8"
      },
      "source": [
        "arr1 = np.arange(15).reshape(3,5) \r\n",
        "#np.arange(15) = 0부터 15개 / .reshape(3,5) 1차원 배열3 x 2차원 배열5\r\n",
        "print(arr1)\r\n",
        "print('--------------------------------------')\r\n",
        "print(arr1.shape) # shape= 차원 호출\r\n",
        "print('--------------------------------------')\r\n",
        "print(arr1.dtype) # dtype= 타입 호출\r\n",
        "print('--------------------------------------')\r\n",
        "\r\n",
        "arr3 = np.zeros((3,4)) # zeros = 0 ones = 1\r\n",
        "print(arr3)"
      ],
      "execution_count": null,
      "outputs": [
        {
          "output_type": "stream",
          "text": [
            "[[ 0  1  2  3  4]\n",
            " [ 5  6  7  8  9]\n",
            " [10 11 12 13 14]]\n",
            "--------------------------------------\n",
            "(3, 5)\n",
            "--------------------------------------\n",
            "int64\n",
            "--------------------------------------\n",
            "[[0. 0. 0. 0.]\n",
            " [0. 0. 0. 0.]\n",
            " [0. 0. 0. 0.]]\n"
          ],
          "name": "stdout"
        }
      ]
    },
    {
      "cell_type": "code",
      "metadata": {
        "colab": {
          "base_uri": "https://localhost:8080/"
        },
        "id": "8cBtVdALh8DP",
        "outputId": "f8d62269-4e52-40db-ae53-1638ce4a4a71"
      },
      "source": [
        "arr4 = np.array([[1,2,3],[4,5,6]], dtype = np.float64) # 배열 설정\r\n",
        "arr5= np.array([[7,8,9],[10,11,12]], dtype = np.float64) #배열 설정\r\n",
        "\r\n",
        "print(\"arr4 + arr5 = \") \r\n",
        "print(arr4 + arr5,\"\\n\") # 설정된 두 배열 사칙연산 + 수행\r\n",
        "print(\"arr4 - arr5 = \")\r\n",
        "print(arr4 - arr5,\"\\n\") # 설정된 두 배열 사칙연산 - 수행\r\n",
        "print(\"arr4 * arr5 = \")\r\n",
        "print(arr4 * arr5,\"\\n\") # 설정된 두 배열 사칙연산 * 수행\r\n",
        "print(\"arr4 / arr5 = \")\r\n",
        "print(arr4 / arr5,\"\\n\") # 설정된 두 배열 사칙연산 / 수행\r\n"
      ],
      "execution_count": null,
      "outputs": [
        {
          "output_type": "stream",
          "text": [
            "arr4 + arr5 = \n",
            "[[ 8. 10. 12.]\n",
            " [14. 16. 18.]] \n",
            "\n",
            "arr4 - arr5 = \n",
            "[[-6. -6. -6.]\n",
            " [-6. -6. -6.]] \n",
            "\n",
            "arr4 * arr5 = \n",
            "[[ 7. 16. 27.]\n",
            " [40. 55. 72.]] \n",
            "\n",
            "arr4 / arr5 = \n",
            "[[0.14285714 0.25       0.33333333]\n",
            " [0.4        0.45454545 0.5       ]] \n",
            "\n"
          ],
          "name": "stdout"
        }
      ]
    },
    {
      "cell_type": "code",
      "metadata": {
        "id": "oBoZwBa0h88_"
      },
      "source": [
        "import matplotlib.pyplot as plt"
      ],
      "execution_count": null,
      "outputs": []
    },
    {
      "cell_type": "code",
      "metadata": {
        "id": "pLAMJCyDiB5i",
        "colab": {
          "base_uri": "https://localhost:8080/",
          "height": 295
        },
        "outputId": "e6628bf5-a486-4e2e-b109-505d52811b5e"
      },
      "source": [
        "y = df['Births']\r\n",
        "x = df['Names']\r\n",
        "\r\n",
        "# 막대그래프 출력합니다.\r\n",
        "plt.bar(x, y)  # 막대 그래프 객체 x, y 축 설정\r\n",
        "plt.xlabel('Names') # X 축 제목\r\n",
        "plt.ylabel('Births') # Y 축 제목\r\n",
        "plt.title('Bar plot') # 그래프 제목\r\n",
        "plt.show() #그래프 출력\r\n"
      ],
      "execution_count": null,
      "outputs": [
        {
          "output_type": "display_data",
          "data": {
            "image/png": "[encoded data removed]",
            "text/plain": [
              "<Figure size 432x288 with 1 Axes>"
            ]
          },
          "metadata": {
            "tags": [],
            "needs_background": "light"
          }
        }
      ]
    },
    {
      "cell_type": "code",
      "metadata": {
        "id": "PJ1_ScbciDBj",
        "colab": {
          "base_uri": "https://localhost:8080/",
          "height": 295
        },
        "outputId": "166bf0a0-3dcc-490f-9530-0d6dd0e47f8d"
      },
      "source": [
        "# 랜덤 추출 시드를 고정합니다.\r\n",
        "np.random.seed(19920613)\r\n",
        "\r\n",
        "# scatter plot 데이터를 생성합니다.\r\n",
        "x = np.arange(0.0, 100.0, 5.0)\r\n",
        "y = (x * 1.5) + np.random.rand(20) * 50\r\n",
        "\r\n",
        "# scatter plot을 출력합니다.\r\n",
        "plt.scatter(x, y, c=\"b\", alpha=0.5, label=\"scatter point\")\r\n",
        "plt.xlabel(\"X\")\r\n",
        "plt.ylabel(\"Y\")\r\n",
        "plt.legend(loc='upper left')\r\n",
        "plt.title('Scatter plot')\r\n",
        "plt.show()"
      ],
      "execution_count": null,
      "outputs": [
        {
          "output_type": "display_data",
          "data": {
            "image/png": "[encoded data removed]",
            "text/plain": [
              "<Figure size 432x288 with 1 Axes>"
            ]
          },
          "metadata": {
            "tags": [],
            "needs_background": "light"
          }
        }
      ]
    },
    {
      "cell_type": "code",
      "metadata": {
        "id": "PU917YF2iEm_"
      },
      "source": [
        ""
      ],
      "execution_count": null,
      "outputs": []
    }
  ]
}